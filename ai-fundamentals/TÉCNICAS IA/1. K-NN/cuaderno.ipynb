{
 "cells": [
  {
   "cell_type": "markdown",
   "id": "0ace59e7",
   "metadata": {},
   "source": [
    "<p><b>Paso 1.</b> Cargar las librerias de trabajo</p>"
   ]
  },
  {
   "cell_type": "code",
   "execution_count": 3,
   "id": "d495b754",
   "metadata": {},
   "outputs": [
    {
     "name": "stdout",
     "output_type": "stream",
     "text": [
      "Archivo cargado exitosamente.\n",
      "Primeras 5 filas:\n",
      "        NRC  Periodo                      Asignatura  Momento   Salon  Tipo  \\\n",
      "0    41-100   202441    Metodología de la Investigac        3  B1-104     1   \n",
      "1    41-101   202441        Formulación de Proyectos        1  B1-104     1   \n",
      "2    41-102   202441         Evaluación de Proyectos        2  B2-105     1   \n",
      "3    41-104   202441  Gerencia del Conoc y la Tecnol        2   VIRTU     2   \n",
      "4  41-56330   202441                        Electiva        2  B1-104     1   \n",
      "\n",
      "   Id_Docente Responsable Sede_Docente Ubicación Tipo_Curso Plantilla  \\\n",
      "0      478259        AEMD          IBA       IBA         PD  INNOVAME   \n",
      "1      662326         ESP          IBA       IBA         PD  INNOVAME   \n",
      "2      662326         ESP          IBA       IBA         PD  INNOVAME   \n",
      "3      846904         ESP          IBA       IBA         PD  INNOVAME   \n",
      "4      738598         ESP          IBA       IBA         PD  INNOVAME   \n",
      "\n",
      "   Total_Alistamiento  Total_Ejecucion  Total_Curso  \\\n",
      "0                50.0              0.0         50.0   \n",
      "1                30.0             16.1         46.1   \n",
      "2                20.0             30.0         50.0   \n",
      "3                50.0             35.0         85.0   \n",
      "4                50.0             40.0         90.0   \n",
      "\n",
      "                  Valoracion Email_Enviado  \n",
      "0  Desempeño insatisfactorio             -  \n",
      "1  Desempeño insatisfactorio            SI  \n",
      "2  Desempeño insatisfactorio             -  \n",
      "3            Desempeño Bueno             -  \n",
      "4            Desempeño Bueno             -  \n"
     ]
    }
   ],
   "source": [
    "import pandas as pd\n",
    "from sklearn.model_selection import train_test_split\n",
    "from sklearn.preprocessing import StandardScaler, OneHotEncoder\n",
    "from sklearn.neighbors import KNeighborsClassifier\n",
    "from sklearn.metrics import accuracy_score, confusion_matrix, classification_report\n",
    "import seaborn as sns\n",
    "import matplotlib.pyplot as plt\n",
    "\n",
    "# --- ¡ACCIÓN REQUERIDA! ---\n",
    "nombre_archivo = 'data_base.xlsx'\n",
    "\n",
    "try:\n",
    "    df = pd.read_excel(nombre_archivo)\n",
    "    print(\"Archivo cargado exitosamente.\")\n",
    "    print(\"Primeras 5 filas:\")\n",
    "    print(df.head())\n",
    "\n",
    "except FileNotFoundError:\n",
    "    print(f\"Error: El archivo '{nombre_archivo}' no se encontró.\")\n",
    "    exit(1)\n"
   ]
  }
 ],
 "metadata": {
  "kernelspec": {
   "display_name": "Python 3",
   "language": "python",
   "name": "python3"
  },
  "language_info": {
   "codemirror_mode": {
    "name": "ipython",
    "version": 3
   },
   "file_extension": ".py",
   "mimetype": "text/x-python",
   "name": "python",
   "nbconvert_exporter": "python",
   "pygments_lexer": "ipython3",
   "version": "3.13.7"
  }
 },
 "nbformat": 4,
 "nbformat_minor": 5
}
