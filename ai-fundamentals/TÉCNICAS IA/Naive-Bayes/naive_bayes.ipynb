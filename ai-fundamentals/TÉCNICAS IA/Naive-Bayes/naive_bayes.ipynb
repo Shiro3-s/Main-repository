{
 "cells": [
  {
   "cell_type": "markdown",
   "metadata": {},
   "source": [
    "# Implementación Naive Bayes para Seguimiento Docente\n",
    "\n",
    "## Objetivo\n",
    "\n",
    "Este notebook es una guía práctica que muestra, paso a paso, cómo implementar un clasificador **Naive Bayes** utilizando Python y la librería Scikit-learn. El objetivo es predecir la valoración del desempeño de un docente (`Valoracion`) basándonos en las características de los cursos que imparte, utilizando los datos de seguimiento proporcionados."
   ]
  },
  {
   "cell_type": "markdown",
   "metadata": {},
   "source": [
    "## Paso 1: Importar las Librerías Necesarias\n",
    "\n",
    "Primero, importamos todas las herramientas que vamos a necesitar."
   ]
  },
  {
   "cell_type": "code",
   "execution_count": 8,
   "metadata": {},
   "outputs": [],
   "source": [
    "import pandas as pd\n",
    "from sklearn.model_selection import train_test_split\n",
    "from sklearn.preprocessing import OrdinalEncoder\n",
    "from sklearn.naive_bayes import CategoricalNB\n",
    "from sklearn.metrics import accuracy_score, classification_report\n",
    "from sklearn.impute import SimpleImputer\n",
    "from sklearn.preprocessing import OrdinalEncoder\n",
    "import warnings\n",
    "\n",
    "warnings.filterwarnings('ignore')"
   ]
  },
  {
   "cell_type": "markdown",
   "metadata": {},
   "source": [
    "## Paso 2: Cargar y Preparar los Datos\n",
    "\n",
    "Cargamos los datos desde un archivo (`.csv`, `.xlsx`)."
   ]
  },
  {
   "cell_type": "code",
   "execution_count": 9,
   "metadata": {},
   "outputs": [
    {
     "name": "stdout",
     "output_type": "stream",
     "text": [
      "¡Archivo cargado exitosamente!\n",
      "Primeras 5 filas:\n"
     ]
    },
    {
     "data": {
      "text/html": [
       "<div>\n",
       "<style scoped>\n",
       "    .dataframe tbody tr th:only-of-type {\n",
       "        vertical-align: middle;\n",
       "    }\n",
       "\n",
       "    .dataframe tbody tr th {\n",
       "        vertical-align: top;\n",
       "    }\n",
       "\n",
       "    .dataframe thead th {\n",
       "        text-align: right;\n",
       "    }\n",
       "</style>\n",
       "<table border=\"1\" class=\"dataframe\">\n",
       "  <thead>\n",
       "    <tr style=\"text-align: right;\">\n",
       "      <th></th>\n",
       "      <th>NRC</th>\n",
       "      <th>Periodo</th>\n",
       "      <th>Asignatura</th>\n",
       "      <th>Momento</th>\n",
       "      <th>Salon</th>\n",
       "      <th>Tipo</th>\n",
       "      <th>Id_Docente</th>\n",
       "      <th>Responsable</th>\n",
       "      <th>Sede_Docente</th>\n",
       "      <th>Ubicación</th>\n",
       "      <th>Tipo_Curso</th>\n",
       "      <th>Plantilla</th>\n",
       "      <th>Total_Alistamiento</th>\n",
       "      <th>Total_Ejecucion</th>\n",
       "      <th>Total_Curso</th>\n",
       "      <th>Valoracion</th>\n",
       "      <th>Email_Enviado</th>\n",
       "    </tr>\n",
       "  </thead>\n",
       "  <tbody>\n",
       "    <tr>\n",
       "      <th>0</th>\n",
       "      <td>43-300</td>\n",
       "      <td>202443</td>\n",
       "      <td>Metodología de la Investigac</td>\n",
       "      <td>3</td>\n",
       "      <td>B3-304</td>\n",
       "      <td>1</td>\n",
       "      <td>478259</td>\n",
       "      <td>AEMD</td>\n",
       "      <td>IBA</td>\n",
       "      <td>IBA</td>\n",
       "      <td>PD</td>\n",
       "      <td>INNOVAME</td>\n",
       "      <td>50.0</td>\n",
       "      <td>0.0</td>\n",
       "      <td>50.0</td>\n",
       "      <td>Desempeño insatisfactorio</td>\n",
       "      <td>-</td>\n",
       "    </tr>\n",
       "    <tr>\n",
       "      <th>1</th>\n",
       "      <td>43-303</td>\n",
       "      <td>202443</td>\n",
       "      <td>Formulación de Proyectos</td>\n",
       "      <td>1</td>\n",
       "      <td>B3-304</td>\n",
       "      <td>1</td>\n",
       "      <td>662326</td>\n",
       "      <td>ESP</td>\n",
       "      <td>IBA</td>\n",
       "      <td>IBA</td>\n",
       "      <td>PD</td>\n",
       "      <td>INNOVAME</td>\n",
       "      <td>30.0</td>\n",
       "      <td>36.3</td>\n",
       "      <td>46.3</td>\n",
       "      <td>Desempeño insatisfactorio</td>\n",
       "      <td>SI</td>\n",
       "    </tr>\n",
       "    <tr>\n",
       "      <th>2</th>\n",
       "      <td>43-302</td>\n",
       "      <td>202443</td>\n",
       "      <td>Evaluación de Proyectos</td>\n",
       "      <td>2</td>\n",
       "      <td>B2-305</td>\n",
       "      <td>1</td>\n",
       "      <td>662326</td>\n",
       "      <td>ESP</td>\n",
       "      <td>IBA</td>\n",
       "      <td>IBA</td>\n",
       "      <td>PD</td>\n",
       "      <td>INNOVAME</td>\n",
       "      <td>20.0</td>\n",
       "      <td>30.0</td>\n",
       "      <td>50.0</td>\n",
       "      <td>Desempeño insatisfactorio</td>\n",
       "      <td>-</td>\n",
       "    </tr>\n",
       "    <tr>\n",
       "      <th>3</th>\n",
       "      <td>43-304</td>\n",
       "      <td>202443</td>\n",
       "      <td>Gerencia del Conoc y la Tecnol</td>\n",
       "      <td>2</td>\n",
       "      <td>VIRTU</td>\n",
       "      <td>2</td>\n",
       "      <td>846904</td>\n",
       "      <td>ESP</td>\n",
       "      <td>IBA</td>\n",
       "      <td>IBA</td>\n",
       "      <td>PD</td>\n",
       "      <td>INNOVAME</td>\n",
       "      <td>50.0</td>\n",
       "      <td>35.0</td>\n",
       "      <td>85.0</td>\n",
       "      <td>Desempeño Bueno</td>\n",
       "      <td>-</td>\n",
       "    </tr>\n",
       "    <tr>\n",
       "      <th>4</th>\n",
       "      <td>43-56330</td>\n",
       "      <td>202443</td>\n",
       "      <td>Electiva</td>\n",
       "      <td>2</td>\n",
       "      <td>B3-304</td>\n",
       "      <td>1</td>\n",
       "      <td>738598</td>\n",
       "      <td>ESP</td>\n",
       "      <td>IBA</td>\n",
       "      <td>IBA</td>\n",
       "      <td>PD</td>\n",
       "      <td>INNOVAME</td>\n",
       "      <td>50.0</td>\n",
       "      <td>40.0</td>\n",
       "      <td>90.0</td>\n",
       "      <td>Desempeño Bueno</td>\n",
       "      <td>-</td>\n",
       "    </tr>\n",
       "  </tbody>\n",
       "</table>\n",
       "</div>"
      ],
      "text/plain": [
       "        NRC  Periodo                      Asignatura  Momento   Salon  Tipo  \\\n",
       "0    43-300   202443    Metodología de la Investigac        3  B3-304     1   \n",
       "1    43-303   202443        Formulación de Proyectos        1  B3-304     1   \n",
       "2    43-302   202443         Evaluación de Proyectos        2  B2-305     1   \n",
       "3    43-304   202443  Gerencia del Conoc y la Tecnol        2   VIRTU     2   \n",
       "4  43-56330   202443                        Electiva        2  B3-304     1   \n",
       "\n",
       "   Id_Docente Responsable Sede_Docente Ubicación Tipo_Curso Plantilla  \\\n",
       "0      478259        AEMD          IBA       IBA         PD  INNOVAME   \n",
       "1      662326         ESP          IBA       IBA         PD  INNOVAME   \n",
       "2      662326         ESP          IBA       IBA         PD  INNOVAME   \n",
       "3      846904         ESP          IBA       IBA         PD  INNOVAME   \n",
       "4      738598         ESP          IBA       IBA         PD  INNOVAME   \n",
       "\n",
       "   Total_Alistamiento  Total_Ejecucion  Total_Curso  \\\n",
       "0                50.0              0.0         50.0   \n",
       "1                30.0             36.3         46.3   \n",
       "2                20.0             30.0         50.0   \n",
       "3                50.0             35.0         85.0   \n",
       "4                50.0             40.0         90.0   \n",
       "\n",
       "                  Valoracion Email_Enviado  \n",
       "0  Desempeño insatisfactorio             -  \n",
       "1  Desempeño insatisfactorio            SI  \n",
       "2  Desempeño insatisfactorio             -  \n",
       "3            Desempeño Bueno             -  \n",
       "4            Desempeño Bueno             -  "
      ]
     },
     "metadata": {},
     "output_type": "display_data"
    }
   ],
   "source": [
    "# --- ¡ACCIÓN REQUERIDA! ---\n",
    "data = \"data_base.xlsx\"\n",
    "\n",
    "try:\n",
    "    df = pd.read_excel(data)\n",
    "    print(\"¡Archivo cargado exitosamente!\")\n",
    "    print(\"Primeras 5 filas:\")\n",
    "    display(df.head())\n",
    "except FileNotFoundError:\n",
    "    print(f\"Error: No se encontró el archivo '{data}'. Asegúrate de que esté en la misma carpeta que este notebook.\")"
   ]
  },
  {
   "cell_type": "markdown",
   "metadata": {},
   "source": [
    "## Paso 3: Preprocesamiento de los Datos\n",
    "\n",
    "Los modelos de Machine Learning no entienden texto. Por lo tanto, debemos convertir nuestras características categóricas (`Tipo`, `Tipo_Curso`, `Plantilla`) en representaciones numéricas. Este proceso se llama **codificación**.\n",
    "\n",
    "1.  **Separar Características (X) y Variable Objetivo (y)**: Aislamos las columnas que usaremos para predecir (X) de la columna que queremos predecir (y).\n",
    "2.  **Codificar Características**: Usaremos `OrdinalEncoder` para asignar un número entero único a cada categoría de texto."
   ]
  },
  {
   "cell_type": "code",
   "execution_count": 10,
   "metadata": {},
   "outputs": [
    {
     "name": "stdout",
     "output_type": "stream",
     "text": [
      "Características originales (X):\n",
      "  Tipo Tipo_Curso Plantilla\n",
      "0    1         PD  INNOVAME\n",
      "1    1         PD  INNOVAME\n",
      "2    1         PD  INNOVAME\n",
      "3    2         PD  INNOVAME\n",
      "4    1         PD  INNOVAME\n",
      "Características codificadas (listas para el modelo):\n",
      "[[0. 0. 2.]\n",
      " [0. 0. 2.]\n",
      " [0. 0. 2.]\n",
      " [1. 0. 2.]\n",
      " [0. 0. 2.]]\n"
     ]
    }
   ],
   "source": [
    "# Separamos las características de la variable objetivo\n",
    "X = df[['Tipo', 'Tipo_Curso', 'Plantilla']]\n",
    "y = df['Valoracion']\n",
    "\n",
    "# 1) Eliminar filas donde la variable objetivo es NaN (no se puede entrenar con y faltante)\n",
    "mask = y.notna()\n",
    "X = X[mask].reset_index(drop=True)\n",
    "y = y[mask].reset_index(drop=True)\n",
    "\n",
    "# 2) Imputar valores faltantes en las características con la moda (valor más frecuente)\n",
    "imputer = SimpleImputer(strategy='constant', fill_value='DESCONOCIDO')\n",
    "X_imputed = imputer.fit_transform(X)\n",
    "X = pd.DataFrame(X_imputed, columns=X.columns)\n",
    "\n",
    "# Creamos una instancia del codificador\n",
    "encoder = OrdinalEncoder(handle_unknown='use_encoded_value', unknown_value=-1)\n",
    "\n",
    "# Ajustamos y transformamos los datos. El modelo aprende las categorías y las convierte en números.\n",
    "X_encoded = encoder.fit_transform(X)\n",
    "\n",
    "print(\"Características originales (X):\")\n",
    "print(X.head())\n",
    "print(\"Características codificadas (listas para el modelo):\")\n",
    "print(X_encoded[:5])"
   ]
  },
  {
   "cell_type": "markdown",
   "metadata": {},
   "source": [
    "## Paso 4: Dividir los Datos en Conjuntos de Entrenamiento y Prueba\n",
    "\n",
    "Es una práctica fundamental en Machine Learning. Entrenamos el modelo con la mayoría de los datos (conjunto de entrenamiento) y luego evaluamos su rendimiento en un conjunto de datos que nunca ha visto (conjunto de prueba). Esto nos da una medida de su capacidad para generalizar."
   ]
  },
  {
   "cell_type": "code",
   "execution_count": 11,
   "metadata": {},
   "outputs": [
    {
     "name": "stdout",
     "output_type": "stream",
     "text": [
      "Tamaño del conjunto de entrenamiento: 949 muestras\n",
      "Tamaño del conjunto de prueba: 317 muestras\n"
     ]
    }
   ],
   "source": [
    "# Dividimos los datos: 75% para entrenamiento, 25% para prueba\n",
    "X_train, X_test, y_train, y_test = train_test_split(X_encoded, y, test_size=0.25, random_state=42)\n",
    "\n",
    "print(f'Tamaño del conjunto de entrenamiento: {X_train.shape[0]} muestras')\n",
    "print(f'Tamaño del conjunto de prueba: {X_test.shape[0]} muestras')"
   ]
  },
  {
   "cell_type": "markdown",
   "metadata": {},
   "source": [
    "## Paso 5: Entrenar el Modelo Naive Bayes\n",
    "\n",
    "Ahora llega el momento de crear y entrenar nuestro clasificador. Como nuestras características son categóricas, el modelo `CategoricalNB` de Scikit-learn es el más apropiado."
   ]
  },
  {
   "cell_type": "code",
   "execution_count": 12,
   "metadata": {},
   "outputs": [
    {
     "name": "stdout",
     "output_type": "stream",
     "text": [
      "¡Modelo Naive Bayes entrenado con éxito!\n"
     ]
    }
   ],
   "source": [
    "# Creamos una instancia del modelo\n",
    "model = CategoricalNB()\n",
    "\n",
    "# Entrenamos el modelo con los datos de entrenamiento. \n",
    "# En este paso, el algoritmo calcula las probabilidades condicionales.\n",
    "model.fit(X_train, y_train)\n",
    "\n",
    "print(\"¡Modelo Naive Bayes entrenado con éxito!\")"
   ]
  },
  {
   "cell_type": "markdown",
   "metadata": {},
   "source": [
    "## Paso 6: Evaluar el Modelo\n",
    "\n",
    "Una vez entrenado, usamos el modelo para hacer predicciones sobre el conjunto de prueba y comparamos esas predicciones con los resultados reales para medir su rendimiento."
   ]
  },
  {
   "cell_type": "code",
   "execution_count": 13,
   "metadata": {},
   "outputs": [
    {
     "name": "stdout",
     "output_type": "stream",
     "text": [
      "--- Resultados de la Evaluación ---\n",
      "Precisión (Accuracy): 0.91\n",
      "Reporte de Clasificación:\n",
      "                           precision    recall  f1-score   support\n",
      "\n",
      "      Desempeño Aceptable       0.00      0.00      0.00         5\n",
      "          Desempeño Bueno       0.92      0.97      0.94       229\n",
      "      Desempeño Excelente       0.84      0.79      0.82        53\n",
      "Desempeño insatisfactorio       1.00      0.33      0.50         6\n",
      "              No evaluada       1.00      1.00      1.00        24\n",
      "\n",
      "                 accuracy                           0.91       317\n",
      "                macro avg       0.75      0.62      0.65       317\n",
      "             weighted avg       0.90      0.91      0.90       317\n",
      "\n"
     ]
    }
   ],
   "source": [
    "# El modelo predice las etiquetas para los datos de prueba\n",
    "y_pred = model.predict(X_test)\n",
    "\n",
    "# Calculamos la precisión (accuracy)\n",
    "accuracy = accuracy_score(y_test, y_pred)\n",
    "\n",
    "print(\"--- Resultados de la Evaluación ---\")\n",
    "print(f'Precisión (Accuracy): {accuracy:.2f}')\n",
    "\n",
    "print(\"Reporte de Clasificación:\")\n",
    "# Este reporte nos da métricas más detalladas para cada clase\n",
    "print(classification_report(y_test, y_pred, zero_division=0))"
   ]
  },
  {
   "cell_type": "markdown",
   "metadata": {},
   "source": [
    "## Paso 7: Realizar una Predicción para un Nuevo Caso\n",
    "\n",
    "Esta es la aplicación final del modelo: usarlo para obtener información sobre un caso nuevo. Crearemos un nuevo curso y le pediremos al modelo que prediga su valoración de desempeño."
   ]
  },
  {
   "cell_type": "code",
   "execution_count": 14,
   "metadata": {},
   "outputs": [
    {
     "name": "stdout",
     "output_type": "stream",
     "text": [
      "--- Predicción para un Nuevo Curso ---\n",
      "Características del nuevo curso:\n",
      "      Tipo Tipo_Curso Plantilla\n",
      "0  VIRTUAL         PD  INNOVAME\n"
     ]
    },
    {
     "ename": "ValueError",
     "evalue": "Negative values in data passed to CategoricalNB (input X).",
     "output_type": "error",
     "traceback": [
      "\u001b[31m---------------------------------------------------------------------------\u001b[39m",
      "\u001b[31mValueError\u001b[39m                                Traceback (most recent call last)",
      "\u001b[36mCell\u001b[39m\u001b[36m \u001b[39m\u001b[32mIn[14]\u001b[39m\u001b[32m, line 14\u001b[39m\n\u001b[32m     11\u001b[39m nuevo_curso_encoded = encoder.transform(nuevo_curso)\n\u001b[32m     13\u001b[39m \u001b[38;5;66;03m# El modelo predice la clase\u001b[39;00m\n\u001b[32m---> \u001b[39m\u001b[32m14\u001b[39m prediccion_final = \u001b[43mmodel\u001b[49m\u001b[43m.\u001b[49m\u001b[43mpredict\u001b[49m\u001b[43m(\u001b[49m\u001b[43mnuevo_curso_encoded\u001b[49m\u001b[43m)\u001b[49m\n\u001b[32m     16\u001b[39m \u001b[38;5;66;03m# También podemos pedirle las probabilidades que calculó para cada clase\u001b[39;00m\n\u001b[32m     17\u001b[39m probabilidades = model.predict_proba(nuevo_curso_encoded)\n",
      "\u001b[36mFile \u001b[39m\u001b[32m~\\AppData\\Local\\Packages\\PythonSoftwareFoundation.Python.3.12_qbz5n2kfra8p0\\LocalCache\\local-packages\\Python312\\site-packages\\sklearn\\naive_bayes.py:105\u001b[39m, in \u001b[36m_BaseNB.predict\u001b[39m\u001b[34m(self, X)\u001b[39m\n\u001b[32m     91\u001b[39m \u001b[38;5;250m\u001b[39m\u001b[33;03m\"\"\"\u001b[39;00m\n\u001b[32m     92\u001b[39m \u001b[33;03mPerform classification on an array of test vectors X.\u001b[39;00m\n\u001b[32m     93\u001b[39m \n\u001b[32m   (...)\u001b[39m\u001b[32m    102\u001b[39m \u001b[33;03m    Predicted target values for X.\u001b[39;00m\n\u001b[32m    103\u001b[39m \u001b[33;03m\"\"\"\u001b[39;00m\n\u001b[32m    104\u001b[39m check_is_fitted(\u001b[38;5;28mself\u001b[39m)\n\u001b[32m--> \u001b[39m\u001b[32m105\u001b[39m X = \u001b[38;5;28;43mself\u001b[39;49m\u001b[43m.\u001b[49m\u001b[43m_check_X\u001b[49m\u001b[43m(\u001b[49m\u001b[43mX\u001b[49m\u001b[43m)\u001b[49m\n\u001b[32m    106\u001b[39m jll = \u001b[38;5;28mself\u001b[39m._joint_log_likelihood(X)\n\u001b[32m    107\u001b[39m \u001b[38;5;28;01mreturn\u001b[39;00m \u001b[38;5;28mself\u001b[39m.classes_[np.argmax(jll, axis=\u001b[32m1\u001b[39m)]\n",
      "\u001b[36mFile \u001b[39m\u001b[32m~\\AppData\\Local\\Packages\\PythonSoftwareFoundation.Python.3.12_qbz5n2kfra8p0\\LocalCache\\local-packages\\Python312\\site-packages\\sklearn\\naive_bayes.py:1451\u001b[39m, in \u001b[36mCategoricalNB._check_X\u001b[39m\u001b[34m(self, X)\u001b[39m\n\u001b[32m   1442\u001b[39m \u001b[38;5;250m\u001b[39m\u001b[33;03m\"\"\"Validate X, used only in predict* methods.\"\"\"\u001b[39;00m\n\u001b[32m   1443\u001b[39m X = validate_data(\n\u001b[32m   1444\u001b[39m     \u001b[38;5;28mself\u001b[39m,\n\u001b[32m   1445\u001b[39m     X,\n\u001b[32m   (...)\u001b[39m\u001b[32m   1449\u001b[39m     reset=\u001b[38;5;28;01mFalse\u001b[39;00m,\n\u001b[32m   1450\u001b[39m )\n\u001b[32m-> \u001b[39m\u001b[32m1451\u001b[39m \u001b[43mcheck_non_negative\u001b[49m\u001b[43m(\u001b[49m\u001b[43mX\u001b[49m\u001b[43m,\u001b[49m\u001b[43m \u001b[49m\u001b[33;43m\"\u001b[39;49m\u001b[33;43mCategoricalNB (input X)\u001b[39;49m\u001b[33;43m\"\u001b[39;49m\u001b[43m)\u001b[49m\n\u001b[32m   1452\u001b[39m \u001b[38;5;28;01mreturn\u001b[39;00m X\n",
      "\u001b[36mFile \u001b[39m\u001b[32m~\\AppData\\Local\\Packages\\PythonSoftwareFoundation.Python.3.12_qbz5n2kfra8p0\\LocalCache\\local-packages\\Python312\\site-packages\\sklearn\\utils\\validation.py:1824\u001b[39m, in \u001b[36mcheck_non_negative\u001b[39m\u001b[34m(X, whom)\u001b[39m\n\u001b[32m   1821\u001b[39m     X_min = xp.min(X)\n\u001b[32m   1823\u001b[39m \u001b[38;5;28;01mif\u001b[39;00m X_min < \u001b[32m0\u001b[39m:\n\u001b[32m-> \u001b[39m\u001b[32m1824\u001b[39m     \u001b[38;5;28;01mraise\u001b[39;00m \u001b[38;5;167;01mValueError\u001b[39;00m(\u001b[33mf\u001b[39m\u001b[33m\"\u001b[39m\u001b[33mNegative values in data passed to \u001b[39m\u001b[38;5;132;01m{\u001b[39;00mwhom\u001b[38;5;132;01m}\u001b[39;00m\u001b[33m.\u001b[39m\u001b[33m\"\u001b[39m)\n",
      "\u001b[31mValueError\u001b[39m: Negative values in data passed to CategoricalNB (input X)."
     ]
    }
   ],
   "source": [
    "# Supongamos un nuevo curso con estas características\n",
    "nuevo_curso = pd.DataFrame([\n",
    "    {'Tipo': 'VIRTUAL', 'Tipo_Curso': 'PD', 'Plantilla': 'INNOVAME'}\n",
    "])\n",
    "\n",
    "print(\"--- Predicción para un Nuevo Curso ---\")\n",
    "print(\"Características del nuevo curso:\")\n",
    "print(nuevo_curso)\n",
    "encoder.fit(X_train)\n",
    "# IMPORTANTE: Debemos usar el MISMO codificador que ajustamos antes para transformar los datos nuevos\n",
    "nuevo_curso_encoded = encoder.transform(nuevo_curso)\n",
    "\n",
    "# El modelo predice la clase\n",
    "prediccion_final = model.predict(nuevo_curso_encoded)\n",
    "\n",
    "# También podemos pedirle las probabilidades que calculó para cada clase\n",
    "probabilidades = model.predict_proba(nuevo_curso_encoded)\n",
    "\n",
    "print(f'La valoración predicha para este curso es: {prediccion_final[0]}')\n",
    "\n",
    "print(\"Probabilidades calculadas para cada clase:'\")\n",
    "prob_df = pd.DataFrame(probabilidades, columns=model.classes_)\n",
    "print(prob_df.to_string(index=False))"
   ]
  },
  {
   "cell_type": "markdown",
   "metadata": {},
   "source": [
    "## Conclusión\n",
    "\n",
    "En este notebook, hemos construido con éxito un clasificador Naive Bayes para predecir el desempeño docente. Hemos cubierto el ciclo de vida completo de un proyecto de Machine Learning: desde la carga y preprocesamiento de los datos, pasando por el entrenamiento y la evaluación del modelo, hasta su aplicación para hacer nuevas predicciones. Este es un ejemplo excelente de cómo una técnica clásica y eficiente como Naive Bayes puede ser aplicada para extraer valor de los datos."
   ]
  }
 ],
 "metadata": {
  "kernelspec": {
   "display_name": "Python 3",
   "language": "python",
   "name": "python3"
  },
  "language_info": {
   "codemirror_mode": {
    "name": "ipython",
    "version": 3
   },
   "file_extension": ".py",
   "mimetype": "text/x-python",
   "name": "python",
   "nbconvert_exporter": "python",
   "pygments_lexer": "ipython3",
   "version": "3.12.10"
  }
 },
 "nbformat": 4,
 "nbformat_minor": 4
}
